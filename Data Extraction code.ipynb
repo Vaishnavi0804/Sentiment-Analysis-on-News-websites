{
 "cells": [
  {
   "cell_type": "code",
   "execution_count": 1,
   "id": "ae0edb1a",
   "metadata": {},
   "outputs": [
    {
     "name": "stdout",
     "output_type": "stream",
     "text": [
      "Requirement already satisfied: tweepy in /Users/vaishnaviputcha/opt/anaconda3/lib/python3.8/site-packages (4.12.0)\n",
      "Requirement already satisfied: requests-oauthlib<2,>=1.2.0 in /Users/vaishnaviputcha/opt/anaconda3/lib/python3.8/site-packages (from tweepy) (1.3.1)\n",
      "Requirement already satisfied: oauthlib<4,>=3.2.0 in /Users/vaishnaviputcha/opt/anaconda3/lib/python3.8/site-packages (from tweepy) (3.2.2)\n",
      "Requirement already satisfied: requests<3,>=2.27.0 in /Users/vaishnaviputcha/opt/anaconda3/lib/python3.8/site-packages (from tweepy) (2.28.0)\n",
      "Requirement already satisfied: idna<4,>=2.5 in /Users/vaishnaviputcha/opt/anaconda3/lib/python3.8/site-packages (from requests<3,>=2.27.0->tweepy) (2.10)\n",
      "Requirement already satisfied: urllib3<1.27,>=1.21.1 in /Users/vaishnaviputcha/opt/anaconda3/lib/python3.8/site-packages (from requests<3,>=2.27.0->tweepy) (1.26.4)\n",
      "Requirement already satisfied: charset-normalizer~=2.0.0 in /Users/vaishnaviputcha/opt/anaconda3/lib/python3.8/site-packages (from requests<3,>=2.27.0->tweepy) (2.0.12)\n",
      "Requirement already satisfied: certifi>=2017.4.17 in /Users/vaishnaviputcha/opt/anaconda3/lib/python3.8/site-packages (from requests<3,>=2.27.0->tweepy) (2020.12.5)\n",
      "Note: you may need to restart the kernel to use updated packages.\n"
     ]
    }
   ],
   "source": [
    "pip install tweepy"
   ]
  },
  {
   "cell_type": "code",
   "execution_count": 2,
   "id": "69c52113",
   "metadata": {},
   "outputs": [],
   "source": [
    "# OAuth2.0 Version \n",
    "import tweepy\n",
    "import requests\n",
    "\n",
    "#Put your Bearer Token in the parenthesis below\n",
    "client = tweepy.Client(bearer_token='Bearer Token',\n",
    "                      consumer_key = \"Customer Key\", consumer_secret = \"Consumer secret\", \n",
    "                      access_token = \"Access token\",\n",
    "                      access_token_secret = \"Access token secret\",\n",
    "                      return_type = requests.Response)\n",
    "\n",
    "query = 'your query'\n",
    "tweets = client.search_recent_tweets(query=query, tweet_fields=['context_annotations', 'created_at'], max_results=100)\n",
    "\n",
    "import pandas as pd\n",
    "\n",
    "tweets_dict = tweets.json()\n",
    "\n",
    "tweets_data = tweets_dict['data']\n",
    "\n",
    "df = pd.json_normalize(tweets_data)\n",
    "#df\n",
    "\n",
    "df.to_excel(\"data.xlsx\")\n",
    "\n",
    "#df.to_csv(\"data.csv\")"
   ]
  },
  {
   "cell_type": "code",
   "execution_count": null,
   "id": "89a5e74c",
   "metadata": {},
   "outputs": [],
   "source": []
  }
 ],
 "metadata": {
  "kernelspec": {
   "display_name": "Python 3",
   "language": "python",
   "name": "python3"
  },
  "language_info": {
   "codemirror_mode": {
    "name": "ipython",
    "version": 3
   },
   "file_extension": ".py",
   "mimetype": "text/x-python",
   "name": "python",
   "nbconvert_exporter": "python",
   "pygments_lexer": "ipython3",
   "version": "3.8.8"
  }
 },
 "nbformat": 4,
 "nbformat_minor": 5
}
