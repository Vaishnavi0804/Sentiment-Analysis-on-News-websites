{
 "cells": [
  {
   "cell_type": "code",
   "execution_count": 1,
   "id": "9594a874",
   "metadata": {},
   "outputs": [],
   "source": [
    "import nltk\n",
    "import pandas as pd\n",
    "from nltk.corpus import stopwords\n",
    "import re\n",
    "import networkx\n",
    "from textblob import TextBlob\n",
    "import warnings\n",
    "warnings.filterwarnings(\"ignore\")"
   ]
  },
  {
   "cell_type": "code",
   "execution_count": 2,
   "id": "cf92048a",
   "metadata": {},
   "outputs": [],
   "source": [
    "data = pd.read_csv('MidTermElections.csv')"
   ]
  },
  {
   "cell_type": "code",
   "execution_count": 3,
   "id": "3c675a1b",
   "metadata": {},
   "outputs": [
    {
     "data": {
      "text/html": [
       "<div>\n",
       "<style scoped>\n",
       "    .dataframe tbody tr th:only-of-type {\n",
       "        vertical-align: middle;\n",
       "    }\n",
       "\n",
       "    .dataframe tbody tr th {\n",
       "        vertical-align: top;\n",
       "    }\n",
       "\n",
       "    .dataframe thead th {\n",
       "        text-align: right;\n",
       "    }\n",
       "</style>\n",
       "<table border=\"1\" class=\"dataframe\">\n",
       "  <thead>\n",
       "    <tr style=\"text-align: right;\">\n",
       "      <th></th>\n",
       "      <th>text</th>\n",
       "    </tr>\n",
       "  </thead>\n",
       "  <tbody>\n",
       "    <tr>\n",
       "      <th>0</th>\n",
       "      <td>@elonmusk @DineshDSouza Look! The jaapie liar ...</td>\n",
       "    </tr>\n",
       "    <tr>\n",
       "      <th>1</th>\n",
       "      <td>RT @GTV26543476: 2022年美国中期选举民主共和两党竞争异常激烈，选举结果将...</td>\n",
       "    </tr>\n",
       "    <tr>\n",
       "      <th>2</th>\n",
       "      <td>RT @DeMatt1954: @mil_vet17 @TrendingLiberal @K...</td>\n",
       "    </tr>\n",
       "    <tr>\n",
       "      <th>3</th>\n",
       "      <td>@_ULTRA_MAGA_ @TruthJustis4USA @DineshDSouza @...</td>\n",
       "    </tr>\n",
       "    <tr>\n",
       "      <th>4</th>\n",
       "      <td>@elonmusk @DineshDSouza No...no you are not\\nh...</td>\n",
       "    </tr>\n",
       "  </tbody>\n",
       "</table>\n",
       "</div>"
      ],
      "text/plain": [
       "                                                text\n",
       "0  @elonmusk @DineshDSouza Look! The jaapie liar ...\n",
       "1  RT @GTV26543476: 2022年美国中期选举民主共和两党竞争异常激烈，选举结果将...\n",
       "2  RT @DeMatt1954: @mil_vet17 @TrendingLiberal @K...\n",
       "3  @_ULTRA_MAGA_ @TruthJustis4USA @DineshDSouza @...\n",
       "4  @elonmusk @DineshDSouza No...no you are not\\nh..."
      ]
     },
     "execution_count": 3,
     "metadata": {},
     "output_type": "execute_result"
    }
   ],
   "source": [
    "data = data.loc[:, data.columns.intersection(['text'])]\n",
    "data.head()"
   ]
  },
  {
   "cell_type": "code",
   "execution_count": 4,
   "id": "7d8a6308",
   "metadata": {},
   "outputs": [
    {
     "name": "stdout",
     "output_type": "stream",
     "text": [
      "[nltk_data] Downloading package punkt to\n",
      "[nltk_data]     /Users/vaishnaviputcha/nltk_data...\n",
      "[nltk_data]   Package punkt is already up-to-date!\n"
     ]
    }
   ],
   "source": [
    "nltk.download('punkt');"
   ]
  },
  {
   "cell_type": "code",
   "execution_count": 5,
   "id": "212540b6",
   "metadata": {},
   "outputs": [
    {
     "data": {
      "text/html": [
       "<div>\n",
       "<style scoped>\n",
       "    .dataframe tbody tr th:only-of-type {\n",
       "        vertical-align: middle;\n",
       "    }\n",
       "\n",
       "    .dataframe tbody tr th {\n",
       "        vertical-align: top;\n",
       "    }\n",
       "\n",
       "    .dataframe thead th {\n",
       "        text-align: right;\n",
       "    }\n",
       "</style>\n",
       "<table border=\"1\" class=\"dataframe\">\n",
       "  <thead>\n",
       "    <tr style=\"text-align: right;\">\n",
       "      <th></th>\n",
       "      <th>text</th>\n",
       "      <th>Cleaned tweets</th>\n",
       "    </tr>\n",
       "  </thead>\n",
       "  <tbody>\n",
       "    <tr>\n",
       "      <th>0</th>\n",
       "      <td>@elonmusk @DineshDSouza Look! The jaapie liar ...</td>\n",
       "      <td>elonmusk DineshDSouza Look The jaapie liar is...</td>\n",
       "    </tr>\n",
       "    <tr>\n",
       "      <th>1</th>\n",
       "      <td>RT @GTV26543476: 2022年美国中期选举民主共和两党竞争异常激烈，选举结果将...</td>\n",
       "      <td>RT GTV https t co EwwLiSlYAX</td>\n",
       "    </tr>\n",
       "    <tr>\n",
       "      <th>2</th>\n",
       "      <td>RT @DeMatt1954: @mil_vet17 @TrendingLiberal @K...</td>\n",
       "      <td>RT DeMatt mil vet TrendingLiberal KariLake Wel...</td>\n",
       "    </tr>\n",
       "    <tr>\n",
       "      <th>3</th>\n",
       "      <td>@_ULTRA_MAGA_ @TruthJustis4USA @DineshDSouza @...</td>\n",
       "      <td>ULTRA MAGA TruthJustis USA DineshDSouza elonm...</td>\n",
       "    </tr>\n",
       "    <tr>\n",
       "      <th>4</th>\n",
       "      <td>@elonmusk @DineshDSouza No...no you are not\\nh...</td>\n",
       "      <td>elonmusk DineshDSouza No no you are not https...</td>\n",
       "    </tr>\n",
       "  </tbody>\n",
       "</table>\n",
       "</div>"
      ],
      "text/plain": [
       "                                                text  \\\n",
       "0  @elonmusk @DineshDSouza Look! The jaapie liar ...   \n",
       "1  RT @GTV26543476: 2022年美国中期选举民主共和两党竞争异常激烈，选举结果将...   \n",
       "2  RT @DeMatt1954: @mil_vet17 @TrendingLiberal @K...   \n",
       "3  @_ULTRA_MAGA_ @TruthJustis4USA @DineshDSouza @...   \n",
       "4  @elonmusk @DineshDSouza No...no you are not\\nh...   \n",
       "\n",
       "                                      Cleaned tweets  \n",
       "0   elonmusk DineshDSouza Look The jaapie liar is...  \n",
       "1                       RT GTV https t co EwwLiSlYAX  \n",
       "2  RT DeMatt mil vet TrendingLiberal KariLake Wel...  \n",
       "3   ULTRA MAGA TruthJustis USA DineshDSouza elonm...  \n",
       "4   elonmusk DineshDSouza No no you are not https...  "
      ]
     },
     "execution_count": 5,
     "metadata": {},
     "output_type": "execute_result"
    }
   ],
   "source": [
    "# Define a function to clean the text\n",
    "def clean(text):\n",
    "# Removes all special characters and numericals leaving the alphabets\n",
    "    text = re.sub('[^A-Za-z]+', ' ', text)\n",
    "    return text\n",
    "\n",
    "# Cleaning the text in the review column\n",
    "data['Cleaned tweets'] = data['text'].apply(clean)\n",
    "data.head()"
   ]
  },
  {
   "cell_type": "code",
   "execution_count": 6,
   "id": "2f5ab171",
   "metadata": {},
   "outputs": [],
   "source": [
    "#cleaning the tweets\n",
    "def clean_tweets(tweet):\n",
    " \n",
    "    tweet = re.sub(r':', '', str(tweet))\n",
    "    tweet = re.sub(r'‚Ä¶', '', str(tweet))\n",
    "    tweet = re.sub('@[A-Za-z0–9]+', '', str(tweet))               \n",
    "    tweet = re.sub('#', '', str(tweet)) # Removing '#' hash tag\n",
    "    tweet = re.sub('https?:\\/\\/\\S+', '', str(tweet)) # Removing hyperlink\n",
    "    #replace consecutive non-ASCII characters with a space\n",
    "    tweet = re.sub(r'[^\\x00-\\x7F]+',' ',str(tweet))\n",
    "    tweet = str(tweet).lower()\n",
    "    tweet = re.sub('\\[.*?\\]', '', tweet)\n",
    "    tweet = re.sub('https?://\\S+|www\\.\\S+', '', tweet)\n",
    "    tweet = re.sub('<.*?>+', '', tweet)\n",
    "    tweet = re.sub('\\n', '', tweet)\n",
    "    tweet = re.sub('\\w*\\d\\w*', '', tweet)\n",
    "    tweet = re.sub(r'#','',tweet)\n",
    "    tweet = re.sub(r'RT[\\s]+','',tweet)\n",
    "    tweet = re.sub(r'[^\\w]', ' ', tweet)\n",
    "    tweet = re.sub('https', '', tweet)\n",
    "    tweet = re.sub('https ', '', tweet)\n",
    "    tweet = re.sub('co', '', tweet)\n",
    "\n",
    "    return tweet"
   ]
  },
  {
   "cell_type": "code",
   "execution_count": 7,
   "id": "1850fa7e",
   "metadata": {},
   "outputs": [],
   "source": [
    "def getSubjectivity(tweet):\n",
    "    try:\n",
    "        return TextBlob(tweet).sentiment.subjectivity\n",
    "    except:\n",
    "        return None\n",
    "\n",
    "\n",
    "# Create a function to get the polarity\n",
    "def getPolarity(tweet):\n",
    "    try:\n",
    "        return  TextBlob(tweet).sentiment.polarity\n",
    "    except:\n",
    "        return None\n",
    "\n",
    "def sentiment_calc(tweet):\n",
    "    try:\n",
    "        return TextBlob(tweet).sentiment\n",
    "    except:\n",
    "        return None"
   ]
  },
  {
   "cell_type": "code",
   "execution_count": 8,
   "id": "d919e192",
   "metadata": {},
   "outputs": [],
   "source": [
    "data['edited_tweet'] = data['text'].apply(clean_tweets)"
   ]
  },
  {
   "cell_type": "markdown",
   "id": "1311c3df",
   "metadata": {},
   "source": [
    "# Polarity"
   ]
  },
  {
   "cell_type": "code",
   "execution_count": 9,
   "id": "fd039a5c",
   "metadata": {},
   "outputs": [],
   "source": [
    "# Create two new columns 'Subjectivity' & 'Polarity'\n",
    "data['subjectivity'] = data['edited_tweet'].apply(getSubjectivity)\n",
    "data['polarity'] = data['edited_tweet'].apply(getPolarity)\n",
    "data['sentiment'] = data['edited_tweet'].apply(sentiment_calc)\n",
    "\n",
    "def getAnalysis(score):\n",
    "    if score < 0:\n",
    "        return 'Negative'\n",
    "    elif score == 0:\n",
    "        return 'Neutral'\n",
    "    else:\n",
    "        return 'Positive'\n",
    "\n",
    "data['Sentiment'] = data['polarity'].apply(getAnalysis)"
   ]
  },
  {
   "cell_type": "code",
   "execution_count": 10,
   "id": "16053e70",
   "metadata": {},
   "outputs": [
    {
     "data": {
      "image/png": "[encoded data removed]",
      "text/plain": [
       "<Figure size 432x288 with 1 Axes>"
      ]
     },
     "metadata": {
      "needs_background": "light"
     },
     "output_type": "display_data"
    }
   ],
   "source": [
    "import matplotlib.pyplot as plt\n",
    "colors = ['red', 'orange', 'green']\n",
    "data.groupby('Sentiment')['Sentiment'].count().plot.bar(color = colors)\n",
    "plt.title('Sentiment Analyisis (Polarity) on Mid Term Elections tweets')\n",
    "plt.ylim(0,100)\n",
    "plt.show()"
   ]
  },
  {
   "cell_type": "code",
   "execution_count": 11,
   "id": "b43a3edd",
   "metadata": {},
   "outputs": [
    {
     "data": {
      "text/plain": [
       "Sentiment\n",
       "Negative    10\n",
       "Neutral     60\n",
       "Positive    30\n",
       "Name: Sentiment, dtype: int64"
      ]
     },
     "execution_count": 11,
     "metadata": {},
     "output_type": "execute_result"
    }
   ],
   "source": [
    "data.groupby('Sentiment')['Sentiment'].count()"
   ]
  },
  {
   "cell_type": "markdown",
   "id": "0cbb6645",
   "metadata": {},
   "source": [
    "# Subjectivity  "
   ]
  },
  {
   "cell_type": "code",
   "execution_count": 12,
   "id": "30e5f34f",
   "metadata": {},
   "outputs": [],
   "source": [
    "def getAnalysis(score):\n",
    "    if score < 0:\n",
    "        return 'Not Valid'\n",
    "    elif score == 0:\n",
    "        return 'Factual'\n",
    "    elif (score > 0 and score < 0.5):\n",
    "        return 'Biased towards factual'\n",
    "    elif (score > 0.5 and score < 1):\n",
    "        return 'Biased towards emotional'\n",
    "    elif score == 1:\n",
    "        return 'Emotional'\n",
    "    else:\n",
    "        return 'Neither Factual Nor Emotional'\n",
    "    \n",
    "data['Subjectivity'] = data['subjectivity'].apply(getAnalysis)\n",
    "data['subjectivity'] = data['edited_tweet'].apply(getSubjectivity)\n",
    "data['Subjectivity'] = data['subjectivity'].apply(getAnalysis)"
   ]
  },
  {
   "cell_type": "code",
   "execution_count": 13,
   "id": "56e0d61f",
   "metadata": {},
   "outputs": [
    {
     "data": {
      "text/plain": [
       "Subjectivity\n",
       "Biased towards emotional         17\n",
       "Biased towards factual           23\n",
       "Emotional                         1\n",
       "Factual                          57\n",
       "Neither Factual Nor Emotional     2\n",
       "Name: Subjectivity, dtype: int64"
      ]
     },
     "execution_count": 13,
     "metadata": {},
     "output_type": "execute_result"
    }
   ],
   "source": [
    "data.groupby('Subjectivity')['Subjectivity'].count()"
   ]
  },
  {
   "cell_type": "code",
   "execution_count": 14,
   "id": "83b50eae",
   "metadata": {},
   "outputs": [
    {
     "data": {
      "image/png": "[encoded data removed]",
      "text/plain": [
       "<Figure size 432x288 with 1 Axes>"
      ]
     },
     "metadata": {
      "needs_background": "light"
     },
     "output_type": "display_data"
    }
   ],
   "source": [
    "import matplotlib.ticker as ticker\n",
    "from mpl_toolkits.axes_grid.parasite_axes import SubplotHost\n",
    "\n",
    "fig1 = plt.figure()\n",
    "ax1 = SubplotHost(fig1, 111)\n",
    "fig1.add_subplot(ax1)\n",
    "\n",
    "for index, Tweets in enumerate(data.index):\n",
    "    x = data['polarity']\n",
    "    y = data['subjectivity']\n",
    "    ax1.scatter(x, y, color='Red')\n",
    "\n",
    "#xlables = ['Negative', 'Neutral', 'Positive']\n",
    "#ylables = ['']\n",
    "plt.title('Sentiment Analysis', fontsize = 20)\n",
    "#plt.xlabel('← Negative — — — — — — Positive →', fontsize=15)\n",
    "plt.xlim(-1,1)\n",
    "#plt.ylim(0,1)\n",
    "plt.ylabel('← Facts - 0 to Opinions - 1 →', fontsize=15)\n",
    "\n",
    "# Second X-axis and Y-axis\n",
    "ax2 = ax1.twiny()\n",
    "offset = 0, -25 # Position of the second axis\n",
    "new_axisline = ax2.get_grid_helper().new_fixed_axis\n",
    "ax2.axis[\"bottom\"] = new_axisline(loc=\"bottom\", axes=ax2, offset=offset)\n",
    "ax2.axis[\"top\"].set_visible(False)\n",
    "\n",
    "ax2.set_xticks([-1.00, -0.25, 0.25, 1.00])\n",
    "ax2.xaxis.set_major_formatter(ticker.NullFormatter())\n",
    "ax2.xaxis.set_minor_locator(ticker.FixedLocator([-0.60, 0.00, 0.60]))\n",
    "ax2.xaxis.set_minor_formatter(ticker.FixedFormatter(['Negative', 'Neutral', 'Positive']))\n",
    "\n",
    "\n",
    "ax2.set_yticks([0.00, 0.50, 1.00])\n",
    "ax2.yaxis.set_major_formatter(ticker.NullFormatter())\n",
    "ax2.yaxis.set_minor_locator(ticker.FixedLocator([0.00, 0.25, 0.5, 0.75, 1.00]))\n",
    "ax2.yaxis.set_minor_formatter(ticker.FixedFormatter(['Factual', 'Biased towards factual', \n",
    "                                                     'Neither factual nor opinion', 'Biased towards opinion',\n",
    "                                                    'Opinion']))\n",
    "plt.rcParams['figure.figsize'] = [20, 20]\n",
    "plt.show()"
   ]
  },
  {
   "cell_type": "code",
   "execution_count": null,
   "id": "7c1ce775",
   "metadata": {},
   "outputs": [],
   "source": []
  }
 ],
 "metadata": {
  "kernelspec": {
   "display_name": "Python 3",
   "language": "python",
   "name": "python3"
  },
  "language_info": {
   "codemirror_mode": {
    "name": "ipython",
    "version": 3
   },
   "file_extension": ".py",
   "mimetype": "text/x-python",
   "name": "python",
   "nbconvert_exporter": "python",
   "pygments_lexer": "ipython3",
   "version": "3.8.8"
  }
 },
 "nbformat": 4,
 "nbformat_minor": 5
}
